{
 "cells": [
  {
   "cell_type": "code",
   "execution_count": 28,
   "metadata": {},
   "outputs": [],
   "source": [
    "import pandas as pd\n",
    "\n",
    "# crea un 2 df pandas con identicas columnas y filas usanndo from faker import Faker\n",
    "from faker import Faker\n",
    "\n",
    "fake = Faker()\n",
    "\n",
    "data = []\n",
    "for _ in range(10):\n",
    "    data.append([fake.first_name(), fake.last_name(), fake.email()])\n",
    "\n",
    "df1 = pd.DataFrame(data, columns=['first_name', 'last_name', 'email'])"
   ]
  },
  {
   "cell_type": "code",
   "execution_count": 42,
   "metadata": {},
   "outputs": [],
   "source": [
    "df1.to_csv('df1.csv', index=False)"
   ]
  },
  {
   "cell_type": "code",
   "execution_count": 52,
   "metadata": {},
   "outputs": [],
   "source": [
    "df2 = pd.read_csv('df1.csv')"
   ]
  },
  {
   "cell_type": "code",
   "execution_count": 31,
   "metadata": {},
   "outputs": [],
   "source": [
    "import pandas as pd\n",
    "\n",
    "def comparar_columnas(df1, df2):\n",
    "    \"\"\"\n",
    "    Compara cada columna entre dos dataframes y retorna un DataFrame con los resultados\n",
    "    \n",
    "    Parameters:\n",
    "    -----------\n",
    "    df1: primer DataFrame\n",
    "    df2: segundo DataFrame\n",
    "    \n",
    "    Returns:\n",
    "    --------\n",
    "    DataFrame con los resultados de la comparación\n",
    "    \"\"\"\n",
    "    resultados = []\n",
    "    \n",
    "    for columna in df1.columns:\n",
    "        # Verificar si los valores son iguales\n",
    "        son_iguales = df1[columna].equals(df2[columna])\n",
    "        \n",
    "        # Si no son iguales, contar cuántos valores diferentes hay\n",
    "        if not son_iguales:\n",
    "            # Manejo especial para columnas datetime\n",
    "            if df1[columna].dtype != df2[columna].dtype:\n",
    "                diferentes = \"Tipos diferentes\"\n",
    "            else:\n",
    "                try:\n",
    "                    diferentes = (df1[columna] != df2[columna]).sum()\n",
    "                except:\n",
    "                    diferentes = \"No comparable directamente\"\n",
    "        else:\n",
    "            diferentes = 0\n",
    "            \n",
    "        resultados.append({\n",
    "            'Columna': columna,\n",
    "            'Son_Iguales': son_iguales,\n",
    "            'Tipo_DF1': df1[columna].dtype,\n",
    "            'Tipo_DF2': df2[columna].dtype,\n",
    "            'Valores_Diferentes': diferentes\n",
    "        })\n",
    "    \n",
    "    return pd.DataFrame(resultados)\n",
    "\n",
    "# Ejemplo de uso:\n",
    "# resultado = comparar_columnas(df1, df2)\n",
    "# print(resultado)\n",
    "\n",
    "# Para mostrar solo las columnas con diferencias:\n",
    "# columnas_diferentes = resultado[~resultado['Son_Iguales']]\n",
    "# print(columnas_diferentes)\n",
    "\n",
    "# Para una versión más simple que solo muestre si son iguales:\n",
    "def comparacion_simple(df1, df2):\n",
    "    \"\"\"\n",
    "    Versión simplificada que solo muestra si las columnas son iguales o no\n",
    "    \"\"\"\n",
    "    for columna in df1.columns:\n",
    "        son_iguales = df1[columna].equals(df2[columna])\n",
    "        print(f\"{columna}: {'Iguales' if son_iguales else 'Diferentes'}\")\n",
    "\n"
   ]
  },
  {
   "cell_type": "code",
   "execution_count": 53,
   "metadata": {},
   "outputs": [
    {
     "name": "stdout",
     "output_type": "stream",
     "text": [
      "first_name: Diferentes\n",
      "last_name: Iguales\n",
      "email: Iguales\n"
     ]
    }
   ],
   "source": [
    "# Comparacion simple de columnas\n",
    "comparacion_simple(df1, df2)"
   ]
  },
  {
   "cell_type": "code",
   "execution_count": 54,
   "metadata": {},
   "outputs": [
    {
     "data": {
      "text/html": [
       "<div>\n",
       "<style scoped>\n",
       "    .dataframe tbody tr th:only-of-type {\n",
       "        vertical-align: middle;\n",
       "    }\n",
       "\n",
       "    .dataframe tbody tr th {\n",
       "        vertical-align: top;\n",
       "    }\n",
       "\n",
       "    .dataframe thead th {\n",
       "        text-align: right;\n",
       "    }\n",
       "</style>\n",
       "<table border=\"1\" class=\"dataframe\">\n",
       "  <thead>\n",
       "    <tr style=\"text-align: right;\">\n",
       "      <th></th>\n",
       "      <th>Columna</th>\n",
       "      <th>Son_Iguales</th>\n",
       "      <th>Tipo_DF1</th>\n",
       "      <th>Tipo_DF2</th>\n",
       "      <th>Valores_Diferentes</th>\n",
       "    </tr>\n",
       "  </thead>\n",
       "  <tbody>\n",
       "    <tr>\n",
       "      <th>0</th>\n",
       "      <td>first_name</td>\n",
       "      <td>False</td>\n",
       "      <td>object</td>\n",
       "      <td>object</td>\n",
       "      <td>1</td>\n",
       "    </tr>\n",
       "    <tr>\n",
       "      <th>1</th>\n",
       "      <td>last_name</td>\n",
       "      <td>True</td>\n",
       "      <td>object</td>\n",
       "      <td>object</td>\n",
       "      <td>0</td>\n",
       "    </tr>\n",
       "    <tr>\n",
       "      <th>2</th>\n",
       "      <td>email</td>\n",
       "      <td>True</td>\n",
       "      <td>object</td>\n",
       "      <td>object</td>\n",
       "      <td>0</td>\n",
       "    </tr>\n",
       "  </tbody>\n",
       "</table>\n",
       "</div>"
      ],
      "text/plain": [
       "      Columna  Son_Iguales Tipo_DF1 Tipo_DF2  Valores_Diferentes\n",
       "0  first_name        False   object   object                   1\n",
       "1   last_name         True   object   object                   0\n",
       "2       email         True   object   object                   0"
      ]
     },
     "execution_count": 54,
     "metadata": {},
     "output_type": "execute_result"
    }
   ],
   "source": [
    "comparar_columnas(df1, df2)"
   ]
  },
  {
   "cell_type": "code",
   "execution_count": 50,
   "metadata": {},
   "outputs": [],
   "source": [
    "import pandas as pd\n",
    "\n",
    "def identificar_registros_diferentes(df1, df2, columna):\n",
    "    \"\"\"\n",
    "    Identifica y muestra los registros diferentes entre dos DataFrames para una columna específica\n",
    "    \n",
    "    Parameters:\n",
    "    -----------\n",
    "    df1: primer DataFrame\n",
    "    df2: segundo DataFrame\n",
    "    columna: nombre de la columna a comparar\n",
    "    \n",
    "    Returns:\n",
    "    --------\n",
    "    DataFrame con los registros diferentes\n",
    "    \"\"\"\n",
    "    # Crear índice para rastrear los registros\n",
    "    df1_temp = df1.copy()\n",
    "    df2_temp = df2.copy()\n",
    "    \n",
    "    # Agregar índice original como columna\n",
    "    df1_temp['indice_original'] = df1_temp.index\n",
    "    df2_temp['indice_original'] = df2_temp.index\n",
    "    \n",
    "    # Identificar registros diferentes\n",
    "    mascara_diferencias = df1_temp[columna] != df2_temp[columna]\n",
    "    \n",
    "    # Crear DataFrame con las diferencias\n",
    "    diferencias = pd.DataFrame({\n",
    "        'Indice': df1_temp[mascara_diferencias]['indice_original'],\n",
    "        f'{columna}_DF1': df1_temp[mascara_diferencias][columna],\n",
    "        f'{columna}_DF2': df2_temp[mascara_diferencias][columna]\n",
    "    })\n",
    "    \n",
    "    # Agregar información adicional si existe en los DataFrames originales\n",
    "    # Por ejemplo, si hay otras columnas que ayuden a identificar el registro\n",
    "    columnas_identificacion = ['DRUT_PERSONA', 'NOMB_PATERNO', 'NOMB_NOMBRES']\n",
    "    for col in columnas_identificacion:\n",
    "        if col in df1.columns and col != columna:\n",
    "            diferencias[f'{col}'] = df1_temp[mascara_diferencias][col]\n",
    "    \n",
    "    return diferencias\n",
    "\n",
    "def mostrar_resumen_diferencias(diferencias):\n",
    "    \"\"\"\n",
    "    Muestra un resumen de las diferencias encontradas\n",
    "    \"\"\"\n",
    "    total_diferencias = len(diferencias)\n",
    "    print(f\"\\nTotal de registros diferentes: {total_diferencias}\")\n",
    "    print(\"\\nPrimeros 10 registros diferentes:\")\n",
    "    print(diferencias.head(10))\n",
    "    \n",
    "    # Análisis básico de las diferencias\n",
    "    print(\"\\nAnálisis de diferencias:\")\n",
    "    print(\"-\" * 50)\n",
    "    \n",
    "    # Mostrar algunos ejemplos de cómo son las diferencias\n",
    "    if 'DRUT_PERSONA_DF1' in diferencias.columns and 'DRUT_PERSONA_DF2' in diferencias.columns:\n",
    "        print(\"\\nEjemplos de las diferencias encontradas:\")\n",
    "        for i in range(min(5, len(diferencias))):\n",
    "            print(f\"\\nRegistro {i+1}:\")\n",
    "            print(f\"DF1: {diferencias.iloc[i]['DRUT_PERSONA_DF1']}\")\n",
    "            print(f\"DF2: {diferencias.iloc[i]['DRUT_PERSONA_DF2']}\")\n",
    "\n",
    "# Para guardar los resultados en un archivo Excel:\n",
    "def guardar_diferencias_excel(diferencias, nombre_archivo='diferencias.xlsx'):\n",
    "    \"\"\"\n",
    "    Guarda las diferencias encontradas en un archivo Excel\n",
    "    \"\"\"\n",
    "    diferencias.to_excel(nombre_archivo, index=False)\n",
    "    print(f\"\\nResultados guardados en {nombre_archivo}\")"
   ]
  },
  {
   "cell_type": "code",
   "execution_count": 55,
   "metadata": {},
   "outputs": [
    {
     "name": "stdout",
     "output_type": "stream",
     "text": [
      "\n",
      "Total de registros diferentes: 1\n",
      "\n",
      "Primeros 10 registros diferentes:\n",
      "   Indice first_name_DF1 first_name_DF2\n",
      "8       8          Louis         Louise\n",
      "\n",
      "Análisis de diferencias:\n",
      "--------------------------------------------------\n"
     ]
    }
   ],
   "source": [
    "# Ejemplo de uso:\n",
    "diferencias = identificar_registros_diferentes(df1, df2, 'first_name')\n",
    "mostrar_resumen_diferencias(diferencias)"
   ]
  }
 ],
 "metadata": {
  "kernelspec": {
   "display_name": ".venv",
   "language": "python",
   "name": "python3"
  },
  "language_info": {
   "codemirror_mode": {
    "name": "ipython",
    "version": 3
   },
   "file_extension": ".py",
   "mimetype": "text/x-python",
   "name": "python",
   "nbconvert_exporter": "python",
   "pygments_lexer": "ipython3",
   "version": "3.10.2"
  }
 },
 "nbformat": 4,
 "nbformat_minor": 2
}
