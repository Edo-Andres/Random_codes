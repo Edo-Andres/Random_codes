{
 "cells": [
  {
   "cell_type": "code",
   "execution_count": 1,
   "metadata": {},
   "outputs": [],
   "source": [
    "# crea 2 df \n",
    "\n",
    "import pandas as pd\n",
    "\n",
    "# crea un 2 df pandas con identicas columnas y filas usanndo from faker import Faker\n",
    "from faker import Faker\n",
    "\n",
    "fake = Faker()\n",
    "\n",
    "data = []\n",
    "for _ in range(10):\n",
    "    data.append([fake.first_name(), fake.last_name(), fake.email()])\n",
    "\n",
    "df1 = pd.DataFrame(data, columns=['first_name', 'last_name', 'email'])"
   ]
  },
  {
   "cell_type": "code",
   "execution_count": 2,
   "metadata": {},
   "outputs": [],
   "source": [
    "import pandas as pd\n",
    "import numpy as np\n",
    "\n",
    "def compare_structure(df1, df2, df1_name=\"DataFrame 1\", df2_name=\"DataFrame 2\"):\n",
    "    \"\"\"\n",
    "    Compara la estructura básica de dos DataFrames: nombres de columnas y cantidad de registros\n",
    "    \n",
    "    Args:\n",
    "        df1, df2: DataFrames a comparar\n",
    "        df1_name, df2_name: Nombres para identificar los DataFrames en el reporte\n",
    "    \n",
    "    Returns:\n",
    "        dict: Diccionario con los resultados de la comparación\n",
    "    \"\"\"\n",
    "    results = {\n",
    "        'same_columns': True,\n",
    "        'same_rows': True,\n",
    "        'differences': []\n",
    "    }\n",
    "    \n",
    "    # Comparar cantidad de columnas\n",
    "    if len(df1.columns) != len(df2.columns):\n",
    "        results['same_columns'] = False\n",
    "        results['differences'].append(\n",
    "            f\"Diferente número de columnas: {df1_name}={len(df1.columns)}, {df2_name}={len(df2.columns)}\"\n",
    "        )\n",
    "    \n",
    "    # Comparar nombres de columnas\n",
    "    cols_diff = set(df1.columns).symmetric_difference(set(df2.columns))\n",
    "    if cols_diff:\n",
    "        results['same_columns'] = False\n",
    "        results['differences'].append(f\"Columnas diferentes: {cols_diff}\")\n",
    "    \n",
    "    # Comparar cantidad de registros\n",
    "    if len(df1) != len(df2):\n",
    "        results['same_rows'] = False\n",
    "        results['differences'].append(\n",
    "            f\"Diferente número de filas: {df1_name}={len(df1)}, {df2_name}={len(df2)}\"\n",
    "        )\n",
    "    \n",
    "    # Comparar tipos de datos de las columnas en común\n",
    "    common_cols = set(df1.columns).intersection(set(df2.columns))\n",
    "    for col in common_cols:\n",
    "        if df1[col].dtype != df2[col].dtype:\n",
    "            results['differences'].append(\n",
    "                f\"Tipo de dato diferente en columna '{col}': \"\n",
    "                f\"{df1_name}={df1[col].dtype}, {df2_name}={df2[col].dtype}\"\n",
    "            )\n",
    "    \n",
    "    return results\n",
    "\n",
    "def compare_data(df1, df2, df1_name=\"DataFrame 1\", df2_name=\"DataFrame 2\"):\n",
    "    \"\"\"\n",
    "    Compara los datos entre dos DataFrames\n",
    "    \n",
    "    Args:\n",
    "        df1, df2: DataFrames a comparar\n",
    "        df1_name, df2_name: Nombres para identificar los DataFrames en el reporte\n",
    "    \n",
    "    Returns:\n",
    "        dict: Diccionario con los resultados de la comparación\n",
    "    \"\"\"\n",
    "    results = {\n",
    "        'identical_data': True,\n",
    "        'differences_count': 0,\n",
    "        'differences_summary': [],\n",
    "        'different_rows': []\n",
    "    }\n",
    "    \n",
    "    # Verificar que tengan las mismas columnas\n",
    "    if not set(df1.columns) == set(df2.columns):\n",
    "        results['identical_data'] = False\n",
    "        results['differences_summary'].append(\"Los DataFrames tienen diferentes columnas\")\n",
    "        return results\n",
    "    \n",
    "    # Comparar valores\n",
    "    comparison = (df1 != df2) & ~(df1.isna() & df2.isna())\n",
    "    if comparison.any().any():\n",
    "        results['identical_data'] = False\n",
    "        results['differences_count'] = int(comparison.sum().sum())\n",
    "        \n",
    "        # Encontrar filas con diferencias\n",
    "        different_rows = comparison.any(axis=1)\n",
    "        results['different_rows'] = different_rows[different_rows].index.tolist()\n",
    "        \n",
    "        # Generar resumen por columna\n",
    "        for col in df1.columns:\n",
    "            diff_count = comparison[col].sum()\n",
    "            if diff_count > 0:\n",
    "                results['differences_summary'].append(\n",
    "                    f\"Columna '{col}': {diff_count} diferencias encontradas\"\n",
    "                )\n",
    "    \n",
    "    return results"
   ]
  },
  {
   "cell_type": "code",
   "execution_count": 4,
   "metadata": {},
   "outputs": [],
   "source": [
    "df1.to_csv('df_1.csv', index=False)"
   ]
  },
  {
   "cell_type": "code",
   "execution_count": 25,
   "metadata": {},
   "outputs": [],
   "source": [
    "df2 = pd.read_csv('df_1.csv')"
   ]
  },
  {
   "cell_type": "code",
   "execution_count": 26,
   "metadata": {},
   "outputs": [
    {
     "data": {
      "text/plain": [
       "{'same_columns': True,\n",
       " 'same_rows': False,\n",
       " 'differences': ['Diferente número de filas: DataFrame 1=10, DataFrame 2=8']}"
      ]
     },
     "execution_count": 26,
     "metadata": {},
     "output_type": "execute_result"
    }
   ],
   "source": [
    "compare_structure(df1, df2)"
   ]
  },
  {
   "cell_type": "code",
   "execution_count": null,
   "metadata": {},
   "outputs": [],
   "source": [
    "compare_data(df1, df2)"
   ]
  },
  {
   "cell_type": "code",
   "execution_count": 23,
   "metadata": {},
   "outputs": [],
   "source": [
    "import pandas as pd\n",
    "import numpy as np\n",
    "\n",
    "# Comprar dos DataFrames solo si nombres de columnas y cantidad de registros son iguales\n",
    "def compare_data_2(df1, df2,df1_name=\"DataFrame_1\", df2_name=\"DataFrame_2\"):\n",
    "    # Verificar que los DataFrames tengan la misma forma\n",
    "    if df1.shape != df2.shape:\n",
    "        return {'error': 'Los DataFrames no tienen la misma forma'}\n",
    "\n",
    "    # Comparar los DataFrames\n",
    "    differences = df1.compare(df2)\n",
    "\n",
    "    # Renombrar las columnas para que sean más descriptivas\n",
    "    differences.columns = pd.MultiIndex.from_tuples(\n",
    "        [(col[0], df1_name if col[1] == 'self' else df2_name) for col in differences.columns]\n",
    "    )\n",
    "\n",
    "    # Contar las diferencias\n",
    "    differences_count = differences.shape[0]\n",
    "\n",
    "    return {\n",
    "        'differences_count': differences_count,\n",
    "        'differences': differences\n",
    "    }\n"
   ]
  },
  {
   "cell_type": "code",
   "execution_count": null,
   "metadata": {},
   "outputs": [],
   "source": [
    "result = compare_data_2(df1, df2)\n",
    "print(result['differences_count'])\n",
    "print(result['differences'])"
   ]
  },
  {
   "cell_type": "code",
   "execution_count": 14,
   "metadata": {},
   "outputs": [
    {
     "data": {
      "text/html": [
       "<div>\n",
       "<style scoped>\n",
       "    .dataframe tbody tr th:only-of-type {\n",
       "        vertical-align: middle;\n",
       "    }\n",
       "\n",
       "    .dataframe tbody tr th {\n",
       "        vertical-align: top;\n",
       "    }\n",
       "\n",
       "    .dataframe thead tr th {\n",
       "        text-align: left;\n",
       "    }\n",
       "</style>\n",
       "<table border=\"1\" class=\"dataframe\">\n",
       "  <thead>\n",
       "    <tr>\n",
       "      <th></th>\n",
       "      <th colspan=\"2\" halign=\"left\">first_name</th>\n",
       "      <th colspan=\"2\" halign=\"left\">email</th>\n",
       "    </tr>\n",
       "    <tr>\n",
       "      <th></th>\n",
       "      <th>DataFrame_1</th>\n",
       "      <th>DataFrame_2</th>\n",
       "      <th>DataFrame_1</th>\n",
       "      <th>DataFrame_2</th>\n",
       "    </tr>\n",
       "  </thead>\n",
       "  <tbody>\n",
       "    <tr>\n",
       "      <th>5</th>\n",
       "      <td>William</td>\n",
       "      <td>Williams</td>\n",
       "      <td>NaN</td>\n",
       "      <td>NaN</td>\n",
       "    </tr>\n",
       "    <tr>\n",
       "      <th>9</th>\n",
       "      <td>NaN</td>\n",
       "      <td>NaN</td>\n",
       "      <td>jenniferjoseph@example.org</td>\n",
       "      <td>jennifeh@example.org</td>\n",
       "    </tr>\n",
       "  </tbody>\n",
       "</table>\n",
       "</div>"
      ],
      "text/plain": [
       "   first_name                                   email                      \n",
       "  DataFrame_1 DataFrame_2                 DataFrame_1           DataFrame_2\n",
       "5     William    Williams                         NaN                   NaN\n",
       "9         NaN         NaN  jenniferjoseph@example.org  jennifeh@example.org"
      ]
     },
     "execution_count": 14,
     "metadata": {},
     "output_type": "execute_result"
    }
   ],
   "source": [
    "result['differences']"
   ]
  }
 ],
 "metadata": {
  "kernelspec": {
   "display_name": ".venv",
   "language": "python",
   "name": "python3"
  },
  "language_info": {
   "codemirror_mode": {
    "name": "ipython",
    "version": 3
   },
   "file_extension": ".py",
   "mimetype": "text/x-python",
   "name": "python",
   "nbconvert_exporter": "python",
   "pygments_lexer": "ipython3",
   "version": "3.10.2"
  }
 },
 "nbformat": 4,
 "nbformat_minor": 2
}
